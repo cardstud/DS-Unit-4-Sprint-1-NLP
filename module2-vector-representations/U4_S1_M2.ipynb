{
 "cells": [
  {
   "cell_type": "markdown",
   "metadata": {
    "colab_type": "text",
    "id": "xV28nU40fYyx"
   },
   "source": [
    "<img align=\"left\" src=\"https://lever-client-logos.s3.amazonaws.com/864372b1-534c-480e-acd5-9711f850815c-1524247202159.png\" width=200>\n",
    "<br></br>\n",
    "\n",
    "# Vector Representations\n",
    "## *Data Science Unit 4 Sprint 2 Assignment 2*"
   ]
  },
  {
   "cell_type": "code",
   "execution_count": 36,
   "metadata": {
    "colab": {},
    "colab_type": "code",
    "id": "hyj-f9FDcVFp"
   },
   "outputs": [],
   "source": [
    "import re\n",
    "import string\n",
    "from collections import Counter\n",
    "import squarify\n",
    "\n",
    "from sklearn.feature_extraction.text import CountVectorizer, TfidfVectorizer\n",
    "import matplotlib.pyplot as plt\n",
    "import pandas as pd\n",
    "import numpy as np\n",
    "import spacy\n",
    "from spacy.tokenizer import Tokenizer\n",
    "\n",
    "from bs4 import BeautifulSoup\n",
    "import html as ihtml"
   ]
  },
  {
   "cell_type": "markdown",
   "metadata": {
    "colab_type": "text",
    "id": "M7bcmqfGXrFG"
   },
   "source": [
    "## 1) *Clean:* Job Listings from indeed.com that contain the title \"Data Scientist\" \n",
    "\n",
    "You have `job_listings.csv` in the data folder for this module. The text data in the description column is still messy - full of html tags. Use the [BeautifulSoup](https://www.crummy.com/software/BeautifulSoup/bs4/doc/) library to clean up this column. You will need to read through the documentation to accomplish this task. "
   ]
  },
  {
   "cell_type": "code",
   "execution_count": 49,
   "metadata": {
    "colab": {},
    "colab_type": "code",
    "id": "KcYlc1URXhlC"
   },
   "outputs": [
    {
     "data": {
      "text/html": [
       "<div>\n",
       "<style scoped>\n",
       "    .dataframe tbody tr th:only-of-type {\n",
       "        vertical-align: middle;\n",
       "    }\n",
       "\n",
       "    .dataframe tbody tr th {\n",
       "        vertical-align: top;\n",
       "    }\n",
       "\n",
       "    .dataframe thead th {\n",
       "        text-align: right;\n",
       "    }\n",
       "</style>\n",
       "<table border=\"1\" class=\"dataframe\">\n",
       "  <thead>\n",
       "    <tr style=\"text-align: right;\">\n",
       "      <th></th>\n",
       "      <th>description</th>\n",
       "      <th>title</th>\n",
       "    </tr>\n",
       "  </thead>\n",
       "  <tbody>\n",
       "    <tr>\n",
       "      <th>0</th>\n",
       "      <td>b\"&lt;div&gt;&lt;div&gt;Job Requirements:&lt;/div&gt;&lt;ul&gt;&lt;li&gt;&lt;p&gt;...</td>\n",
       "      <td>Data scientist</td>\n",
       "    </tr>\n",
       "    <tr>\n",
       "      <th>1</th>\n",
       "      <td>b'&lt;div&gt;Job Description&lt;br/&gt;\\n&lt;br/&gt;\\n&lt;p&gt;As a Da...</td>\n",
       "      <td>Data Scientist I</td>\n",
       "    </tr>\n",
       "    <tr>\n",
       "      <th>2</th>\n",
       "      <td>b'&lt;div&gt;&lt;p&gt;As a Data Scientist you will be work...</td>\n",
       "      <td>Data Scientist - Entry Level</td>\n",
       "    </tr>\n",
       "    <tr>\n",
       "      <th>3</th>\n",
       "      <td>b'&lt;div class=\"jobsearch-JobMetadataHeader icl-...</td>\n",
       "      <td>Data Scientist</td>\n",
       "    </tr>\n",
       "    <tr>\n",
       "      <th>4</th>\n",
       "      <td>b'&lt;ul&gt;&lt;li&gt;Location: USA \\xe2\\x80\\x93 multiple ...</td>\n",
       "      <td>Data Scientist</td>\n",
       "    </tr>\n",
       "  </tbody>\n",
       "</table>\n",
       "</div>"
      ],
      "text/plain": [
       "                                         description  \\\n",
       "0  b\"<div><div>Job Requirements:</div><ul><li><p>...   \n",
       "1  b'<div>Job Description<br/>\\n<br/>\\n<p>As a Da...   \n",
       "2  b'<div><p>As a Data Scientist you will be work...   \n",
       "3  b'<div class=\"jobsearch-JobMetadataHeader icl-...   \n",
       "4  b'<ul><li>Location: USA \\xe2\\x80\\x93 multiple ...   \n",
       "\n",
       "                          title  \n",
       "0               Data scientist   \n",
       "1              Data Scientist I  \n",
       "2  Data Scientist - Entry Level  \n",
       "3                Data Scientist  \n",
       "4                Data Scientist  "
      ]
     },
     "execution_count": 49,
     "metadata": {},
     "output_type": "execute_result"
    }
   ],
   "source": [
    "from bs4 import BeautifulSoup\n",
    "import requests\n",
    "\n",
    "df = pd.read_csv(\"https://raw.githubusercontent.com/cardstud/DS-Unit-4-Sprint-1-NLP/master/module2-vector-representations/data/job_listings.csv\", index_col=0)\n",
    "df.head()              "
   ]
  },
  {
   "cell_type": "code",
   "execution_count": 50,
   "metadata": {},
   "outputs": [
    {
     "data": {
      "text/plain": [
       "'as spotify premium swells to over 96m subscribers around the globe we are looking for new ways to continue to grow our subscription business you would be joining spotify on the premium analytics team a core business strategy and insights team as an associate data scientist in this unique position your work would be essential in shaping how spotify is able to grow through datadriven recommendations new product offerings and innovative marketing efforts you will see first hand how your work translates into new strategies products and consumer experiences as we enter a new phase in spotify premiums life  you will work with a global team of worldclass analysts data scientists business managers marketers and engineers we are all passionate about what we do and move forward with high impact projects at a high pace learning and improving is part of our daily routine and you will be free to develop your own skills and ways of working at your fingertips youll have access to petabytes of data and will get the opportunity to be creative with how you drive insights and strategies from that above all your work will impact the way the world experiences music  what youll do  develop datadriven strategies to drive the growth of spotify subscribers create and communicate actionable recommendations that improve our product conversion and migration metrics work with everything from advanced algorithmic data analysis and abtest setup to business analysis and modeling work closely with business stakeholders to understand the change they are driving and help them discover new opportunities for growth who are you  you are an openminded creative person with an interest in analyses and data science you have some professional experience working with data analysis 1 year you are comfortable with the whole analytical process from identifying insight gaps to designing and running initiatives to fill them you have worked handson synthesizing insights from data using tools such as python r sql sas spss minitab and or hadoop you are a communicative person that values building strong relationships with colleagues and partners you are experienced in presenting insights and recommendations to partners or clients'"
      ]
     },
     "execution_count": 50,
     "metadata": {},
     "output_type": "execute_result"
    }
   ],
   "source": [
    "# clean_text function\n",
    "\n",
    "def clean_text(text):\n",
    "    text = BeautifulSoup(text, \"html.parser\").get_text() # removes html using the beautiful soup library\n",
    "    text = text[1:] # removes first b character\n",
    "    text = text.replace('\\\\n', ' ') #replaces newline with spaces\n",
    "    text = text.replace('/', ' ') #replaces backslashes with spaces\n",
    "    text = text.lower() #makes all text lower case\n",
    "    text = re.sub(r'[^a-zA-Z ^0-9]', '', text) # leaves just letters/numbers\n",
    "    text = re.sub(r'(x.[0-9])', '', text) #takes out special characters\n",
    "    return text\n",
    "\n",
    "# clean the descriptions\n",
    "for i in range(0, len(df)):\n",
    "    df['description'][i] = clean_text(df['description'][i])\n",
    "       \n",
    "df['description'][6] "
   ]
  },
  {
   "cell_type": "code",
   "execution_count": 51,
   "metadata": {},
   "outputs": [
    {
     "data": {
      "text/html": [
       "<div>\n",
       "<style scoped>\n",
       "    .dataframe tbody tr th:only-of-type {\n",
       "        vertical-align: middle;\n",
       "    }\n",
       "\n",
       "    .dataframe tbody tr th {\n",
       "        vertical-align: top;\n",
       "    }\n",
       "\n",
       "    .dataframe thead th {\n",
       "        text-align: right;\n",
       "    }\n",
       "</style>\n",
       "<table border=\"1\" class=\"dataframe\">\n",
       "  <thead>\n",
       "    <tr style=\"text-align: right;\">\n",
       "      <th></th>\n",
       "      <th>description</th>\n",
       "      <th>title</th>\n",
       "    </tr>\n",
       "  </thead>\n",
       "  <tbody>\n",
       "    <tr>\n",
       "      <th>0</th>\n",
       "      <td>job requirements conceptual understanding in m...</td>\n",
       "      <td>Data scientist</td>\n",
       "    </tr>\n",
       "    <tr>\n",
       "      <th>1</th>\n",
       "      <td>job description  as a data scientist 1 you wil...</td>\n",
       "      <td>Data Scientist I</td>\n",
       "    </tr>\n",
       "    <tr>\n",
       "      <th>2</th>\n",
       "      <td>as a data scientist you will be working on con...</td>\n",
       "      <td>Data Scientist - Entry Level</td>\n",
       "    </tr>\n",
       "    <tr>\n",
       "      <th>3</th>\n",
       "      <td>4969  6756 a monthcontractunder the general su...</td>\n",
       "      <td>Data Scientist</td>\n",
       "    </tr>\n",
       "    <tr>\n",
       "      <th>4</th>\n",
       "      <td>location usa  multiple locations 2 years of an...</td>\n",
       "      <td>Data Scientist</td>\n",
       "    </tr>\n",
       "  </tbody>\n",
       "</table>\n",
       "</div>"
      ],
      "text/plain": [
       "                                         description  \\\n",
       "0  job requirements conceptual understanding in m...   \n",
       "1  job description  as a data scientist 1 you wil...   \n",
       "2  as a data scientist you will be working on con...   \n",
       "3  4969  6756 a monthcontractunder the general su...   \n",
       "4  location usa  multiple locations 2 years of an...   \n",
       "\n",
       "                          title  \n",
       "0               Data scientist   \n",
       "1              Data Scientist I  \n",
       "2  Data Scientist - Entry Level  \n",
       "3                Data Scientist  \n",
       "4                Data Scientist  "
      ]
     },
     "execution_count": 51,
     "metadata": {},
     "output_type": "execute_result"
    }
   ],
   "source": [
    "df.head()"
   ]
  },
  {
   "cell_type": "markdown",
   "metadata": {
    "colab_type": "text",
    "id": "5C4xFZNtX1m2"
   },
   "source": [
    "## 2) Use Spacy to tokenize the listings "
   ]
  },
  {
   "cell_type": "code",
   "execution_count": 52,
   "metadata": {
    "colab": {},
    "colab_type": "code",
    "id": "dhUHuMr-X-II"
   },
   "outputs": [],
   "source": [
    "nlp = spacy.load(\"en_core_web_lg\")\n",
    "tokenizer = Tokenizer(nlp.vocab)"
   ]
  },
  {
   "cell_type": "code",
   "execution_count": 53,
   "metadata": {},
   "outputs": [],
   "source": [
    "# Stop words\n",
    "STOP_WORDS = nlp.Defaults.stop_words.union(['job', 'apply', 'new', 'company', 'opportunity', 'internship', 'work', 'working', 'ability',\n",
    "                                            'understand', 'successful', 'display', 'must'])"
   ]
  },
  {
   "cell_type": "code",
   "execution_count": 54,
   "metadata": {},
   "outputs": [],
   "source": [
    "# pipeline - lemmatize and remove any stopwords or spaces\n",
    "tokens = []\n",
    "\n",
    "for doc in tokenizer.pipe(df['description']):\n",
    "    doc_tokens = []\n",
    "    for token in doc:\n",
    "        if (token.lemma_ not in STOP_WORDS) & (token.text != ' '):\n",
    "            doc_tokens.append(token.lemma_)\n",
    "    tokens.append(doc_tokens)"
   ]
  },
  {
   "cell_type": "code",
   "execution_count": 55,
   "metadata": {},
   "outputs": [
    {
     "data": {
      "text/plain": [
       "0    [requirement, conceptual, machine, learn, mode...\n",
       "1    [description, datum, scientist, 1, help, build...\n",
       "2    [datum, scientist, consult, business, responsi...\n",
       "3    [4969, 6756, monthcontractunder, general, supe...\n",
       "4    [location, usa, multiple, location, 2, year, a...\n",
       "Name: tokens, dtype: object"
      ]
     },
     "execution_count": 55,
     "metadata": {},
     "output_type": "execute_result"
    }
   ],
   "source": [
    "df['tokens'] = tokens\n",
    "df['tokens'].head()"
   ]
  },
  {
   "cell_type": "code",
   "execution_count": 56,
   "metadata": {},
   "outputs": [],
   "source": [
    "# count function\n",
    "def count(docs):\n",
    "\n",
    "        word_counts = Counter()\n",
    "        appears_in = Counter()\n",
    "        \n",
    "        total_docs = len(docs)\n",
    "\n",
    "        for doc in docs:\n",
    "            word_counts.update(doc)\n",
    "            appears_in.update(set(doc))\n",
    "\n",
    "        temp = zip(word_counts.keys(), word_counts.values())\n",
    "        \n",
    "        wc = pd.DataFrame(temp, columns = ['word', 'count'])\n",
    "\n",
    "        wc['rank'] = wc['count'].rank(method='first', ascending=False)\n",
    "        total = wc['count'].sum()\n",
    "\n",
    "        wc['pct_total'] = wc['count'].apply(lambda x: x / total)\n",
    "        \n",
    "        wc = wc.sort_values(by='rank')\n",
    "        wc['cul_pct_total'] = wc['pct_total'].cumsum()\n",
    "\n",
    "        t2 = zip(appears_in.keys(), appears_in.values())\n",
    "        ac = pd.DataFrame(t2, columns=['word', 'appears_in'])\n",
    "        wc = ac.merge(wc, on='word')\n",
    "\n",
    "        wc['appears_in_pct'] = wc['appears_in'].apply(lambda x: x / total_docs)\n",
    "        \n",
    "        return wc.sort_values(by='rank')"
   ]
  },
  {
   "cell_type": "code",
   "execution_count": 57,
   "metadata": {},
   "outputs": [
    {
     "data": {
      "text/html": [
       "<div>\n",
       "<style scoped>\n",
       "    .dataframe tbody tr th:only-of-type {\n",
       "        vertical-align: middle;\n",
       "    }\n",
       "\n",
       "    .dataframe tbody tr th {\n",
       "        vertical-align: top;\n",
       "    }\n",
       "\n",
       "    .dataframe thead th {\n",
       "        text-align: right;\n",
       "    }\n",
       "</style>\n",
       "<table border=\"1\" class=\"dataframe\">\n",
       "  <thead>\n",
       "    <tr style=\"text-align: right;\">\n",
       "      <th></th>\n",
       "      <th>word</th>\n",
       "      <th>appears_in</th>\n",
       "      <th>count</th>\n",
       "      <th>rank</th>\n",
       "      <th>pct_total</th>\n",
       "      <th>cul_pct_total</th>\n",
       "      <th>appears_in_pct</th>\n",
       "    </tr>\n",
       "  </thead>\n",
       "  <tbody>\n",
       "    <tr>\n",
       "      <th>57</th>\n",
       "      <td>datum</td>\n",
       "      <td>422</td>\n",
       "      <td>4292</td>\n",
       "      <td>1.0</td>\n",
       "      <td>0.033801</td>\n",
       "      <td>0.033801</td>\n",
       "      <td>0.990610</td>\n",
       "    </tr>\n",
       "    <tr>\n",
       "      <th>30</th>\n",
       "      <td>experience</td>\n",
       "      <td>410</td>\n",
       "      <td>1999</td>\n",
       "      <td>2.0</td>\n",
       "      <td>0.015743</td>\n",
       "      <td>0.049544</td>\n",
       "      <td>0.962441</td>\n",
       "    </tr>\n",
       "    <tr>\n",
       "      <th>285</th>\n",
       "      <td>team</td>\n",
       "      <td>370</td>\n",
       "      <td>1363</td>\n",
       "      <td>3.0</td>\n",
       "      <td>0.010734</td>\n",
       "      <td>0.060279</td>\n",
       "      <td>0.868545</td>\n",
       "    </tr>\n",
       "    <tr>\n",
       "      <th>92</th>\n",
       "      <td>business</td>\n",
       "      <td>324</td>\n",
       "      <td>1251</td>\n",
       "      <td>4.0</td>\n",
       "      <td>0.009852</td>\n",
       "      <td>0.070131</td>\n",
       "      <td>0.760563</td>\n",
       "    </tr>\n",
       "    <tr>\n",
       "      <th>32</th>\n",
       "      <td>model</td>\n",
       "      <td>330</td>\n",
       "      <td>1248</td>\n",
       "      <td>5.0</td>\n",
       "      <td>0.009829</td>\n",
       "      <td>0.079959</td>\n",
       "      <td>0.774648</td>\n",
       "    </tr>\n",
       "  </tbody>\n",
       "</table>\n",
       "</div>"
      ],
      "text/plain": [
       "           word  appears_in  count  rank  pct_total  cul_pct_total  \\\n",
       "57        datum         422   4292   1.0   0.033801       0.033801   \n",
       "30   experience         410   1999   2.0   0.015743       0.049544   \n",
       "285        team         370   1363   3.0   0.010734       0.060279   \n",
       "92     business         324   1251   4.0   0.009852       0.070131   \n",
       "32        model         330   1248   5.0   0.009829       0.079959   \n",
       "\n",
       "     appears_in_pct  \n",
       "57         0.990610  \n",
       "30         0.962441  \n",
       "285        0.868545  \n",
       "92         0.760563  \n",
       "32         0.774648  "
      ]
     },
     "execution_count": 57,
     "metadata": {},
     "output_type": "execute_result"
    }
   ],
   "source": [
    "wc = count(df['tokens'])\n",
    "wc.head()"
   ]
  },
  {
   "cell_type": "code",
   "execution_count": 58,
   "metadata": {},
   "outputs": [
    {
     "data": {
      "image/png": "[encoded data removed]",
      "text/plain": [
       "<Figure size 432x288 with 1 Axes>"
      ]
     },
     "metadata": {
      "needs_background": "light"
     },
     "output_type": "display_data"
    }
   ],
   "source": [
    "# graph \n",
    "wc_top25 = wc[wc['rank'] <= 20]\n",
    "\n",
    "squarify.plot(sizes=wc_top25['pct_total'], label=wc_top25['word'], alpha=.75)\n",
    "plt.show()"
   ]
  },
  {
   "cell_type": "markdown",
   "metadata": {
    "colab_type": "text",
    "id": "-lgCZNL_YycP"
   },
   "source": [
    "## 3) Use Scikit-Learn's CountVectorizer to get word counts for each listing."
   ]
  },
  {
   "cell_type": "code",
   "execution_count": 59,
   "metadata": {
    "colab": {},
    "colab_type": "code",
    "id": "X2PZ8Pj_YxcF"
   },
   "outputs": [],
   "source": [
    "def tokenize(document):\n",
    "    doc = nlp(document)\n",
    "    return [token.lemma_.strip() for token in doc if (token.is_stop != True) and (token.is_punct != True) and (token.text != ' ')]"
   ]
  },
  {
   "cell_type": "code",
   "execution_count": 60,
   "metadata": {},
   "outputs": [
    {
     "name": "stderr",
     "output_type": "stream",
     "text": [
      "C:\\Users\\Todd\\anaconda3\\envs\\U4-S1-NLP\\lib\\site-packages\\sklearn\\feature_extraction\\text.py:507: UserWarning: The parameter 'token_pattern' will not be used since 'tokenizer' is not None'\n",
      "  warnings.warn(\"The parameter 'token_pattern' will not be used\"\n",
      "C:\\Users\\Todd\\anaconda3\\envs\\U4-S1-NLP\\lib\\site-packages\\sklearn\\feature_extraction\\text.py:385: UserWarning: Your stop_words may be inconsistent with your preprocessing. Tokenizing the stop words generated tokens ['d', 'm', 've'] not in stop_words.\n",
      "  'stop_words.' % sorted(inconsistent))\n"
     ]
    },
    {
     "name": "stdout",
     "output_type": "stream",
     "text": [
      "(426, 7690)\n"
     ]
    }
   ],
   "source": [
    "# Count vectorizer\n",
    "from sklearn.feature_extraction.text import CountVectorizer\n",
    "\n",
    "# transform\n",
    "vect = CountVectorizer(tokenizer=tokenize, stop_words=STOP_WORDS)\n",
    "\n",
    "# build vocab\n",
    "vect.fit(df['description'])\n",
    "\n",
    "# transform text\n",
    "dtm = vect.transform(df['description'])\n",
    "print(dtm.shape)"
   ]
  },
  {
   "cell_type": "code",
   "execution_count": 61,
   "metadata": {},
   "outputs": [
    {
     "data": {
      "text/html": [
       "<div>\n",
       "<style scoped>\n",
       "    .dataframe tbody tr th:only-of-type {\n",
       "        vertical-align: middle;\n",
       "    }\n",
       "\n",
       "    .dataframe tbody tr th {\n",
       "        vertical-align: top;\n",
       "    }\n",
       "\n",
       "    .dataframe thead th {\n",
       "        text-align: right;\n",
       "    }\n",
       "</style>\n",
       "<table border=\"1\" class=\"dataframe\">\n",
       "  <thead>\n",
       "    <tr style=\"text-align: right;\">\n",
       "      <th></th>\n",
       "      <th></th>\n",
       "      <th>-PRON-</th>\n",
       "      <th>0</th>\n",
       "      <th>00</th>\n",
       "      <th>02</th>\n",
       "      <th>02115</th>\n",
       "      <th>03</th>\n",
       "      <th>030</th>\n",
       "      <th>030547069</th>\n",
       "      <th>04</th>\n",
       "      <th>...</th>\n",
       "      <th>zfs</th>\n",
       "      <th>zheng</th>\n",
       "      <th>zillow</th>\n",
       "      <th>zillows</th>\n",
       "      <th>zogsports</th>\n",
       "      <th>zone</th>\n",
       "      <th>zoom</th>\n",
       "      <th>zuckerberg</th>\n",
       "      <th>zurich</th>\n",
       "      <th>zurichs</th>\n",
       "    </tr>\n",
       "  </thead>\n",
       "  <tbody>\n",
       "    <tr>\n",
       "      <th>0</th>\n",
       "      <td>0</td>\n",
       "      <td>0</td>\n",
       "      <td>0</td>\n",
       "      <td>0</td>\n",
       "      <td>0</td>\n",
       "      <td>0</td>\n",
       "      <td>0</td>\n",
       "      <td>0</td>\n",
       "      <td>0</td>\n",
       "      <td>0</td>\n",
       "      <td>...</td>\n",
       "      <td>0</td>\n",
       "      <td>0</td>\n",
       "      <td>0</td>\n",
       "      <td>0</td>\n",
       "      <td>0</td>\n",
       "      <td>0</td>\n",
       "      <td>0</td>\n",
       "      <td>0</td>\n",
       "      <td>0</td>\n",
       "      <td>0</td>\n",
       "    </tr>\n",
       "    <tr>\n",
       "      <th>1</th>\n",
       "      <td>0</td>\n",
       "      <td>0</td>\n",
       "      <td>0</td>\n",
       "      <td>0</td>\n",
       "      <td>0</td>\n",
       "      <td>0</td>\n",
       "      <td>0</td>\n",
       "      <td>0</td>\n",
       "      <td>0</td>\n",
       "      <td>0</td>\n",
       "      <td>...</td>\n",
       "      <td>0</td>\n",
       "      <td>0</td>\n",
       "      <td>0</td>\n",
       "      <td>0</td>\n",
       "      <td>0</td>\n",
       "      <td>0</td>\n",
       "      <td>0</td>\n",
       "      <td>0</td>\n",
       "      <td>0</td>\n",
       "      <td>0</td>\n",
       "    </tr>\n",
       "    <tr>\n",
       "      <th>2</th>\n",
       "      <td>0</td>\n",
       "      <td>0</td>\n",
       "      <td>0</td>\n",
       "      <td>0</td>\n",
       "      <td>0</td>\n",
       "      <td>0</td>\n",
       "      <td>0</td>\n",
       "      <td>0</td>\n",
       "      <td>0</td>\n",
       "      <td>0</td>\n",
       "      <td>...</td>\n",
       "      <td>0</td>\n",
       "      <td>0</td>\n",
       "      <td>0</td>\n",
       "      <td>0</td>\n",
       "      <td>0</td>\n",
       "      <td>0</td>\n",
       "      <td>0</td>\n",
       "      <td>0</td>\n",
       "      <td>0</td>\n",
       "      <td>0</td>\n",
       "    </tr>\n",
       "    <tr>\n",
       "      <th>3</th>\n",
       "      <td>0</td>\n",
       "      <td>0</td>\n",
       "      <td>0</td>\n",
       "      <td>0</td>\n",
       "      <td>0</td>\n",
       "      <td>0</td>\n",
       "      <td>0</td>\n",
       "      <td>0</td>\n",
       "      <td>0</td>\n",
       "      <td>0</td>\n",
       "      <td>...</td>\n",
       "      <td>0</td>\n",
       "      <td>1</td>\n",
       "      <td>0</td>\n",
       "      <td>0</td>\n",
       "      <td>0</td>\n",
       "      <td>0</td>\n",
       "      <td>0</td>\n",
       "      <td>0</td>\n",
       "      <td>0</td>\n",
       "      <td>0</td>\n",
       "    </tr>\n",
       "    <tr>\n",
       "      <th>4</th>\n",
       "      <td>0</td>\n",
       "      <td>0</td>\n",
       "      <td>0</td>\n",
       "      <td>0</td>\n",
       "      <td>0</td>\n",
       "      <td>0</td>\n",
       "      <td>0</td>\n",
       "      <td>0</td>\n",
       "      <td>0</td>\n",
       "      <td>0</td>\n",
       "      <td>...</td>\n",
       "      <td>0</td>\n",
       "      <td>0</td>\n",
       "      <td>0</td>\n",
       "      <td>0</td>\n",
       "      <td>0</td>\n",
       "      <td>0</td>\n",
       "      <td>0</td>\n",
       "      <td>0</td>\n",
       "      <td>0</td>\n",
       "      <td>0</td>\n",
       "    </tr>\n",
       "  </tbody>\n",
       "</table>\n",
       "<p>5 rows × 7690 columns</p>\n",
       "</div>"
      ],
      "text/plain": [
       "      -PRON-  0  00  02  02115  03  030  030547069  04  ...  zfs  zheng  \\\n",
       "0  0       0  0   0   0      0   0    0          0   0  ...    0      0   \n",
       "1  0       0  0   0   0      0   0    0          0   0  ...    0      0   \n",
       "2  0       0  0   0   0      0   0    0          0   0  ...    0      0   \n",
       "3  0       0  0   0   0      0   0    0          0   0  ...    0      1   \n",
       "4  0       0  0   0   0      0   0    0          0   0  ...    0      0   \n",
       "\n",
       "   zillow  zillows  zogsports  zone  zoom  zuckerberg  zurich  zurichs  \n",
       "0       0        0          0     0     0           0       0        0  \n",
       "1       0        0          0     0     0           0       0        0  \n",
       "2       0        0          0     0     0           0       0        0  \n",
       "3       0        0          0     0     0           0       0        0  \n",
       "4       0        0          0     0     0           0       0        0  \n",
       "\n",
       "[5 rows x 7690 columns]"
      ]
     },
     "execution_count": 61,
     "metadata": {},
     "output_type": "execute_result"
    }
   ],
   "source": [
    "dtmwc = pd.DataFrame(dtm.todense(), columns=vect.get_feature_names())\n",
    "dtmwc.head()"
   ]
  },
  {
   "cell_type": "markdown",
   "metadata": {
    "colab_type": "text",
    "id": "Zo1iH_UeY7_n"
   },
   "source": [
    "## 4) Visualize the most common word counts"
   ]
  },
  {
   "cell_type": "code",
   "execution_count": 62,
   "metadata": {
    "colab": {},
    "colab_type": "code",
    "id": "M5LB00uyZKV5"
   },
   "outputs": [
    {
     "data": {
      "text/plain": [
       "[('datum', 2979),\n",
       " ('experience', 1935),\n",
       " ('team', 1361),\n",
       " ('data', 1313),\n",
       " ('business', 1251),\n",
       " ('science', 970),\n",
       " ('model', 915),\n",
       " ('product', 891),\n",
       " ('analysis', 809),\n",
       " ('analytic', 786),\n",
       " ('skill', 718),\n",
       " ('scientist', 706),\n",
       " ('machine', 703),\n",
       " ('build', 643),\n",
       " ('develop', 622),\n",
       " ('learn', 576),\n",
       " ('statistical', 576),\n",
       " ('solution', 569),\n",
       " ('help', 558),\n",
       " ('include', 555),\n",
       " ('customer', 551),\n",
       " ('problem', 527),\n",
       " ('technology', 519),\n",
       " ('year', 512),\n",
       " ('learning', 498)]"
      ]
     },
     "execution_count": 62,
     "metadata": {},
     "output_type": "execute_result"
    }
   ],
   "source": [
    "sums = dtm.sum(axis=0)\n",
    "word_freq = [(word, sums[0, idx]) for word, idx in vect.vocabulary_.items()]\n",
    "word_freq = sorted(word_freq, key = lambda x: x[1], reverse = True)\n",
    "word_freq[:25]"
   ]
  },
  {
   "cell_type": "code",
   "execution_count": 63,
   "metadata": {},
   "outputs": [
    {
     "data": {
      "text/html": [
       "<div>\n",
       "<style scoped>\n",
       "    .dataframe tbody tr th:only-of-type {\n",
       "        vertical-align: middle;\n",
       "    }\n",
       "\n",
       "    .dataframe tbody tr th {\n",
       "        vertical-align: top;\n",
       "    }\n",
       "\n",
       "    .dataframe thead th {\n",
       "        text-align: right;\n",
       "    }\n",
       "</style>\n",
       "<table border=\"1\" class=\"dataframe\">\n",
       "  <thead>\n",
       "    <tr style=\"text-align: right;\">\n",
       "      <th></th>\n",
       "      <th>0</th>\n",
       "      <th>1</th>\n",
       "    </tr>\n",
       "  </thead>\n",
       "  <tbody>\n",
       "    <tr>\n",
       "      <th>0</th>\n",
       "      <td>datum</td>\n",
       "      <td>2979</td>\n",
       "    </tr>\n",
       "    <tr>\n",
       "      <th>1</th>\n",
       "      <td>experience</td>\n",
       "      <td>1935</td>\n",
       "    </tr>\n",
       "    <tr>\n",
       "      <th>2</th>\n",
       "      <td>team</td>\n",
       "      <td>1361</td>\n",
       "    </tr>\n",
       "    <tr>\n",
       "      <th>3</th>\n",
       "      <td>data</td>\n",
       "      <td>1313</td>\n",
       "    </tr>\n",
       "    <tr>\n",
       "      <th>4</th>\n",
       "      <td>business</td>\n",
       "      <td>1251</td>\n",
       "    </tr>\n",
       "    <tr>\n",
       "      <th>5</th>\n",
       "      <td>science</td>\n",
       "      <td>970</td>\n",
       "    </tr>\n",
       "    <tr>\n",
       "      <th>6</th>\n",
       "      <td>model</td>\n",
       "      <td>915</td>\n",
       "    </tr>\n",
       "    <tr>\n",
       "      <th>7</th>\n",
       "      <td>product</td>\n",
       "      <td>891</td>\n",
       "    </tr>\n",
       "    <tr>\n",
       "      <th>8</th>\n",
       "      <td>analysis</td>\n",
       "      <td>809</td>\n",
       "    </tr>\n",
       "    <tr>\n",
       "      <th>9</th>\n",
       "      <td>analytic</td>\n",
       "      <td>786</td>\n",
       "    </tr>\n",
       "    <tr>\n",
       "      <th>10</th>\n",
       "      <td>skill</td>\n",
       "      <td>718</td>\n",
       "    </tr>\n",
       "    <tr>\n",
       "      <th>11</th>\n",
       "      <td>scientist</td>\n",
       "      <td>706</td>\n",
       "    </tr>\n",
       "    <tr>\n",
       "      <th>12</th>\n",
       "      <td>machine</td>\n",
       "      <td>703</td>\n",
       "    </tr>\n",
       "    <tr>\n",
       "      <th>13</th>\n",
       "      <td>build</td>\n",
       "      <td>643</td>\n",
       "    </tr>\n",
       "    <tr>\n",
       "      <th>14</th>\n",
       "      <td>develop</td>\n",
       "      <td>622</td>\n",
       "    </tr>\n",
       "    <tr>\n",
       "      <th>15</th>\n",
       "      <td>learn</td>\n",
       "      <td>576</td>\n",
       "    </tr>\n",
       "    <tr>\n",
       "      <th>16</th>\n",
       "      <td>statistical</td>\n",
       "      <td>576</td>\n",
       "    </tr>\n",
       "    <tr>\n",
       "      <th>17</th>\n",
       "      <td>solution</td>\n",
       "      <td>569</td>\n",
       "    </tr>\n",
       "    <tr>\n",
       "      <th>18</th>\n",
       "      <td>help</td>\n",
       "      <td>558</td>\n",
       "    </tr>\n",
       "    <tr>\n",
       "      <th>19</th>\n",
       "      <td>include</td>\n",
       "      <td>555</td>\n",
       "    </tr>\n",
       "    <tr>\n",
       "      <th>20</th>\n",
       "      <td>customer</td>\n",
       "      <td>551</td>\n",
       "    </tr>\n",
       "    <tr>\n",
       "      <th>21</th>\n",
       "      <td>problem</td>\n",
       "      <td>527</td>\n",
       "    </tr>\n",
       "    <tr>\n",
       "      <th>22</th>\n",
       "      <td>technology</td>\n",
       "      <td>519</td>\n",
       "    </tr>\n",
       "    <tr>\n",
       "      <th>23</th>\n",
       "      <td>year</td>\n",
       "      <td>512</td>\n",
       "    </tr>\n",
       "    <tr>\n",
       "      <th>24</th>\n",
       "      <td>learning</td>\n",
       "      <td>498</td>\n",
       "    </tr>\n",
       "  </tbody>\n",
       "</table>\n",
       "</div>"
      ],
      "text/plain": [
       "              0     1\n",
       "0         datum  2979\n",
       "1    experience  1935\n",
       "2          team  1361\n",
       "3          data  1313\n",
       "4      business  1251\n",
       "5       science   970\n",
       "6         model   915\n",
       "7       product   891\n",
       "8      analysis   809\n",
       "9      analytic   786\n",
       "10        skill   718\n",
       "11    scientist   706\n",
       "12      machine   703\n",
       "13        build   643\n",
       "14      develop   622\n",
       "15        learn   576\n",
       "16  statistical   576\n",
       "17     solution   569\n",
       "18         help   558\n",
       "19      include   555\n",
       "20     customer   551\n",
       "21      problem   527\n",
       "22   technology   519\n",
       "23         year   512\n",
       "24     learning   498"
      ]
     },
     "execution_count": 63,
     "metadata": {},
     "output_type": "execute_result"
    }
   ],
   "source": [
    "df_top25 = pd.DataFrame(word_freq[:25])\n",
    "df_top25.head(25)"
   ]
  },
  {
   "cell_type": "markdown",
   "metadata": {
    "colab_type": "text",
    "id": "bwFsTqrVZMYi"
   },
   "source": [
    "## 5) Use Scikit-Learn's tfidfVectorizer to get a TF-IDF feature matrix"
   ]
  },
  {
   "cell_type": "code",
   "execution_count": 64,
   "metadata": {
    "colab": {},
    "colab_type": "code",
    "id": "-gx2gZCbl5Np"
   },
   "outputs": [
    {
     "name": "stderr",
     "output_type": "stream",
     "text": [
      "C:\\Users\\Todd\\anaconda3\\envs\\U4-S1-NLP\\lib\\site-packages\\sklearn\\feature_extraction\\text.py:507: UserWarning: The parameter 'token_pattern' will not be used since 'tokenizer' is not None'\n",
      "  warnings.warn(\"The parameter 'token_pattern' will not be used\"\n"
     ]
    },
    {
     "data": {
      "text/html": [
       "<div>\n",
       "<style scoped>\n",
       "    .dataframe tbody tr th:only-of-type {\n",
       "        vertical-align: middle;\n",
       "    }\n",
       "\n",
       "    .dataframe tbody tr th {\n",
       "        vertical-align: top;\n",
       "    }\n",
       "\n",
       "    .dataframe thead th {\n",
       "        text-align: right;\n",
       "    }\n",
       "</style>\n",
       "<table border=\"1\" class=\"dataframe\">\n",
       "  <thead>\n",
       "    <tr style=\"text-align: right;\">\n",
       "      <th></th>\n",
       "      <th></th>\n",
       "      <th>ability</th>\n",
       "      <th>datum</th>\n",
       "      <th>deep</th>\n",
       "      <th>develop</th>\n",
       "      <th>disability</th>\n",
       "      <th>experience</th>\n",
       "      <th>gender</th>\n",
       "      <th>look</th>\n",
       "      <th>math</th>\n",
       "      <th>...</th>\n",
       "      <th>year handson</th>\n",
       "      <th>year industry</th>\n",
       "      <th>year professional</th>\n",
       "      <th>year related</th>\n",
       "      <th>year relevant</th>\n",
       "      <th>year work</th>\n",
       "      <th>yes</th>\n",
       "      <th>york</th>\n",
       "      <th>york city</th>\n",
       "      <th>york office</th>\n",
       "    </tr>\n",
       "  </thead>\n",
       "  <tbody>\n",
       "    <tr>\n",
       "      <th>0</th>\n",
       "      <td>0.0</td>\n",
       "      <td>0.0</td>\n",
       "      <td>0.0</td>\n",
       "      <td>0.0</td>\n",
       "      <td>0.0</td>\n",
       "      <td>0.0</td>\n",
       "      <td>0.0</td>\n",
       "      <td>0.0</td>\n",
       "      <td>0.0</td>\n",
       "      <td>0.0</td>\n",
       "      <td>...</td>\n",
       "      <td>0.0</td>\n",
       "      <td>0.0</td>\n",
       "      <td>0.0</td>\n",
       "      <td>0.0</td>\n",
       "      <td>0.0</td>\n",
       "      <td>0.0</td>\n",
       "      <td>0.0</td>\n",
       "      <td>0.0</td>\n",
       "      <td>0.0</td>\n",
       "      <td>0.0</td>\n",
       "    </tr>\n",
       "    <tr>\n",
       "      <th>1</th>\n",
       "      <td>0.0</td>\n",
       "      <td>0.0</td>\n",
       "      <td>0.0</td>\n",
       "      <td>0.0</td>\n",
       "      <td>0.0</td>\n",
       "      <td>0.0</td>\n",
       "      <td>0.0</td>\n",
       "      <td>0.0</td>\n",
       "      <td>0.0</td>\n",
       "      <td>0.0</td>\n",
       "      <td>...</td>\n",
       "      <td>0.0</td>\n",
       "      <td>0.0</td>\n",
       "      <td>0.0</td>\n",
       "      <td>0.0</td>\n",
       "      <td>0.0</td>\n",
       "      <td>0.0</td>\n",
       "      <td>0.0</td>\n",
       "      <td>0.0</td>\n",
       "      <td>0.0</td>\n",
       "      <td>0.0</td>\n",
       "    </tr>\n",
       "    <tr>\n",
       "      <th>2</th>\n",
       "      <td>0.0</td>\n",
       "      <td>0.0</td>\n",
       "      <td>0.0</td>\n",
       "      <td>0.0</td>\n",
       "      <td>0.0</td>\n",
       "      <td>0.0</td>\n",
       "      <td>0.0</td>\n",
       "      <td>0.0</td>\n",
       "      <td>0.0</td>\n",
       "      <td>0.0</td>\n",
       "      <td>...</td>\n",
       "      <td>0.0</td>\n",
       "      <td>0.0</td>\n",
       "      <td>0.0</td>\n",
       "      <td>0.0</td>\n",
       "      <td>0.0</td>\n",
       "      <td>0.0</td>\n",
       "      <td>0.0</td>\n",
       "      <td>0.0</td>\n",
       "      <td>0.0</td>\n",
       "      <td>0.0</td>\n",
       "    </tr>\n",
       "    <tr>\n",
       "      <th>3</th>\n",
       "      <td>0.0</td>\n",
       "      <td>0.0</td>\n",
       "      <td>0.0</td>\n",
       "      <td>0.0</td>\n",
       "      <td>0.0</td>\n",
       "      <td>0.0</td>\n",
       "      <td>0.0</td>\n",
       "      <td>0.0</td>\n",
       "      <td>0.0</td>\n",
       "      <td>0.0</td>\n",
       "      <td>...</td>\n",
       "      <td>0.0</td>\n",
       "      <td>0.0</td>\n",
       "      <td>0.0</td>\n",
       "      <td>0.0</td>\n",
       "      <td>0.0</td>\n",
       "      <td>0.0</td>\n",
       "      <td>0.0</td>\n",
       "      <td>0.0</td>\n",
       "      <td>0.0</td>\n",
       "      <td>0.0</td>\n",
       "    </tr>\n",
       "    <tr>\n",
       "      <th>4</th>\n",
       "      <td>0.0</td>\n",
       "      <td>0.0</td>\n",
       "      <td>0.0</td>\n",
       "      <td>0.0</td>\n",
       "      <td>0.0</td>\n",
       "      <td>0.0</td>\n",
       "      <td>0.0</td>\n",
       "      <td>0.0</td>\n",
       "      <td>0.0</td>\n",
       "      <td>0.0</td>\n",
       "      <td>...</td>\n",
       "      <td>0.0</td>\n",
       "      <td>0.0</td>\n",
       "      <td>0.0</td>\n",
       "      <td>0.0</td>\n",
       "      <td>0.0</td>\n",
       "      <td>0.0</td>\n",
       "      <td>0.0</td>\n",
       "      <td>0.0</td>\n",
       "      <td>0.0</td>\n",
       "      <td>0.0</td>\n",
       "    </tr>\n",
       "  </tbody>\n",
       "</table>\n",
       "<p>5 rows × 5778 columns</p>\n",
       "</div>"
      ],
      "text/plain": [
       "         ability   datum   deep   develop   disability   experience   gender  \\\n",
       "0  0.0       0.0     0.0    0.0       0.0          0.0          0.0      0.0   \n",
       "1  0.0       0.0     0.0    0.0       0.0          0.0          0.0      0.0   \n",
       "2  0.0       0.0     0.0    0.0       0.0          0.0          0.0      0.0   \n",
       "3  0.0       0.0     0.0    0.0       0.0          0.0          0.0      0.0   \n",
       "4  0.0       0.0     0.0    0.0       0.0          0.0          0.0      0.0   \n",
       "\n",
       "    look   math  ...  year handson  year industry  year professional  \\\n",
       "0    0.0    0.0  ...           0.0            0.0                0.0   \n",
       "1    0.0    0.0  ...           0.0            0.0                0.0   \n",
       "2    0.0    0.0  ...           0.0            0.0                0.0   \n",
       "3    0.0    0.0  ...           0.0            0.0                0.0   \n",
       "4    0.0    0.0  ...           0.0            0.0                0.0   \n",
       "\n",
       "   year related  year relevant  year work  yes  york  york city  york office  \n",
       "0           0.0            0.0        0.0  0.0   0.0        0.0          0.0  \n",
       "1           0.0            0.0        0.0  0.0   0.0        0.0          0.0  \n",
       "2           0.0            0.0        0.0  0.0   0.0        0.0          0.0  \n",
       "3           0.0            0.0        0.0  0.0   0.0        0.0          0.0  \n",
       "4           0.0            0.0        0.0  0.0   0.0        0.0          0.0  \n",
       "\n",
       "[5 rows x 5778 columns]"
      ]
     },
     "execution_count": 64,
     "metadata": {},
     "output_type": "execute_result"
    }
   ],
   "source": [
    "# Tunning Parameters\n",
    "\n",
    "# Instantiate vectorizer object\n",
    "tfidf = TfidfVectorizer(stop_words='english', \n",
    "                        ngram_range=(1,2),\n",
    "                        max_df=.97, # percentage if appears in about 97% of documents\n",
    "                        min_df=5, # at least in 5 documents\n",
    "                       # max_features= looks at all words and takes top 5000 in documents\n",
    "                        tokenizer=tokenize)\n",
    "\n",
    "# tokenize and fit\n",
    "tfidf.fit(df['description'])\n",
    "\n",
    "# transform\n",
    "dtm = tfidf.transform(df['description']) \n",
    "\n",
    "# Get feature names to use as df col headers\n",
    "dtm = pd.DataFrame(dtm.todense(), columns=tfidf.get_feature_names())\n",
    "\n",
    "# View Feature Matrix as DataFrame\n",
    "dtm.head()"
   ]
  },
  {
   "cell_type": "markdown",
   "metadata": {
    "colab_type": "text",
    "id": "c_WmDgs6fYzI"
   },
   "source": [
    "## 6) Create a NearestNeighbor Model. Write the description of your ideal datascience job and query your job listings. "
   ]
  },
  {
   "cell_type": "code",
   "execution_count": 65,
   "metadata": {
    "colab": {},
    "colab_type": "code",
    "collapsed": false,
    "id": "-exPrTu6fYzI",
    "inputHidden": false,
    "jupyter": {
     "outputs_hidden": false
    },
    "outputHidden": false
   },
   "outputs": [
    {
     "data": {
      "text/plain": [
       "NearestNeighbors(algorithm='kd_tree', leaf_size=30, metric='minkowski',\n",
       "                 metric_params=None, n_jobs=None, n_neighbors=5, p=2,\n",
       "                 radius=1.0)"
      ]
     },
     "execution_count": 65,
     "metadata": {},
     "output_type": "execute_result"
    }
   ],
   "source": [
    "from sklearn.neighbors import NearestNeighbors\n",
    "\n",
    "# Fit on DTM\n",
    "nn = NearestNeighbors(n_neighbors=5, algorithm='kd_tree')\n",
    "nn.fit(dtm)"
   ]
  },
  {
   "cell_type": "code",
   "execution_count": 66,
   "metadata": {},
   "outputs": [],
   "source": [
    "ideal = [\"\"\"The job includes machine learning, AI, python to gather info on aerospace or defense sector\"\"\"]"
   ]
  },
  {
   "cell_type": "code",
   "execution_count": 67,
   "metadata": {},
   "outputs": [
    {
     "data": {
      "text/plain": [
       "(array([[1.31437572, 1.31527948, 1.33384259, 1.33407883, 1.33415398]]),\n",
       " array([[151,  91, 143, 396, 311]], dtype=int64))"
      ]
     },
     "execution_count": 67,
     "metadata": {},
     "output_type": "execute_result"
    }
   ],
   "source": [
    "new = tfidf.transform(ideal)\n",
    "nn.kneighbors(new.todense())"
   ]
  },
  {
   "cell_type": "code",
   "execution_count": 68,
   "metadata": {},
   "outputs": [
    {
     "data": {
      "text/plain": [
       "'the data scientist is a critical position within dss and in the data organization who specializes in applying machine learning methods to meet optimization personalization recommendations and efficiency related challenges in close collaboration with engineering and business partners in this role you will build and apply machine learning techniques and modern statistics to data both augment decisionmaking but to also significantly improve operational process problems through automation you will collaborate across teams to define problems and develop automated solutions with the data product and engineering teams to be built into our products  responsibilities  reframe objectives as machine learning tasks that can deliver actionable insights accurate predictions and effective optimization implement and execute machine learning with reliability and reproducibility explain how models and systems work to both nontechnical and technical stakeholders collaborate with engineering teams to build databased products and help integrate into the products and operational processes process cleanse and verify the integrity of data used for analysis enhance data collection procedures to include information that is relevant for creating better ml models create automated anomaly detection systems and constant tracking of its performance  basic qualifications  demonstrated ability to present data science results and recommendations to business and technical clients 3 years of experience as a data scientist in technology sector demonstrated delivery of machine learning techniques in realtime applications expertise in modern statistics data science machine learning expertise in a statistical programming language we use python and r internally and data access tools eg sql experience with deep learning nlp neural networks and or bayesian modeling ability to gauge the complexity of machine learning problems and a willingness to execute simple approaches for quick effective solutions as appropriate  required education  graduate degree with background in statistics or machine learning'"
      ]
     },
     "execution_count": 68,
     "metadata": {},
     "output_type": "execute_result"
    }
   ],
   "source": [
    "df['description'][151]"
   ]
  },
  {
   "cell_type": "code",
   "execution_count": 69,
   "metadata": {},
   "outputs": [
    {
     "data": {
      "text/plain": [
       "'atos se societas europaea is a leader in digital services with pro forma annual revenue of circa xac 12 billion and circa 100000 employees in 72 countries serving a global client base the group provides consulting  systems integration services managed services  bpo cloud operations big data  cybersecurity solutions as well as transactional services through worldline the european leader in the payments and transactional services industry with its deep technology expertise and industry knowledge the group works with clients across different business sectors defense financial services health manufacturing media utilities public sector retail telecommunications and transportation atos is focused on business technology that powers progress and helps organizations to create their firm of the future the group is the worldwide information technology partner for the olympic  paralympic games and is listed on the euronext paris market atos operates under the brands atos atos consulting atos worldgrid bull canopy unify and worldline please follow this link atosnet page to learn more about the new global partnership with google cloud and atos how will google cloud and atos global partnership work together to deliver secure hybrid cloud machine learning and collaboration solutions to the enterprise press release job description we are looking for a data scientist that will help us discover the information hidden in vast amounts of data and help us make smarter decisions to deliver even better solutions your primary focus will be in applying data mining techniques doing statistical analysis and building high quality prediction systems integrated with our processes you will be able to grow in competences on both the technical side of by working with senior level members of the team participating in development and implementation of big data projects you will be in charge of pure data scientist tasks with a focus on ocr and computer vision by building a smart solution of document processing to generate analytics selecting features building and optimizing classifiers using machine learning techniques r python data mining using stateoftheart methods extending companys data with third party sources of information when needed enhancing data collection procedures to include information that is relevant for building analytic systems processing cleansing and verifying the integrity of data used for analysis doing adhoc analysis and presenting results in a clear manner creating automated anomaly detection systems and constant tracking of its performance job requirements college degree bachelors or higher from accredited institutions in data science computer science or relevant related field 23 years of experience experience in spark and spark streaming experience with dataviz tools tableau spotfire and data science tools r python excellent understanding of machine learning techniques and algorithms such as knn naive bayes svm decision forests etc experience in hadoop cloudera hortonworks and or mapr architecture deployment and development experience with common data science toolkits such as r and python excellence in at least one of these is highly desirable strong communication skills experience in data engineering tools and techniques map reduce pig hive hbase oozie spark solr good applied statistics skills such as distributions statistical testing regression etc experience in ocr technics and computer vision your application if you wish to apply for this position please click below to complete our online application form and attach your cv in either word rtf or text format atos does not discriminate on the basis of race religion colour sex age disability or sexual orientation all recruitment decisions are based solely on qualifications skills knowledge and experience and relevant business requirements we are committed to making reasonable adjustments to the applications process for people with disabilities'"
      ]
     },
     "execution_count": 69,
     "metadata": {},
     "output_type": "execute_result"
    }
   ],
   "source": [
    "df['description'][91]"
   ]
  },
  {
   "cell_type": "code",
   "execution_count": 70,
   "metadata": {},
   "outputs": [
    {
     "data": {
      "text/plain": [
       "'date mar 19 2019 ericsson overview  ericsson is worlds leading provider of communications technology and services our offerings include services consulting software and infrastructure within information and communications technology using innovation to empower people business and society ericsson is working towards the networked society a world connected in real time that will open up opportunities to create freedom transform society and drive solutions to some of our planets greatest challenges  we are truly a global company operating across borders in over 180 countries offering a diverse performancedriven culture and an innovative and engaging environment as an ericsson employee you will have freedom to think big and the support to turn ideas into achievements continuous learning and growth opportunities allow you to acquire the knowledge and skills necessary to progress and reach your career goals we invite you to join our team  our exciting opportunity it will be practically impossible for human brains to understand how to run and optimize next generation of wireless networks ie 5g network with distributed edge compute that will drive economic and social transformation for all aspects of society machine learning ml and other artificial intelligence ai technologies will be vital for us to handle this opportunity we are setting up a global ai accelerator in the us sweden and india with 300 experts to fasttrack our strategy execution machine intelligence the combination of machine learning and other artificial intelligence technologies is what ericsson uses to drive thought leadership to automate and transform ericsson offerings and operations mi is also a key competence for to enable new and emerging business this includes development of models frameworks and infrastructure where we in our advancements push the technology frontiers we engage in both academic and industry collaborations and drive the digitalization of ericsson and the industry by developing state of the art solutions that simplify and automate processes in our products and services and build new value through data insights  ericsson is now looking for junior data scientists to significantly expand its global team for ai acceleration  do you have depth of understanding of machine learning and ai technologies do you want to apply and extend those skills to solve real complex problems with high societal impact going beyond ml ai for consumption and advertising then you do want to join ericssons global team of data scientists pushing the technology frontiers to automate simplify and add new value through large and complex data  role summary  as a junior data scientist you will need to have good programming skills and strong understanding of data science and machine learning tools you will use your knowledge and or experience in data science methodologies apply them to solve challenging realworld problems as part of a highly dynamic and global team you will work in a highly collaborative environment where you communicate and plan tasks and ideas you will be working on high impact initiatives with other ds in machine intelligence to drive growth and economic profitability for ericsson and its customers by accelerating current ericsson offerings your contribution will also help to create new offerings in the areas of mi driven 4g and 5g network distributed cloud iot and other emerging businesses  your roles and responsibilities conduct functional and technical analysis within ericsson organization and strategic customers to understand midriven business needs and opportunities contribute to rapid and iterative development of validated minimum viable solution addressing these needs this includes working with petabytes of 4g 5gnetworks iot and exogenous data and proposing selecting testing predictive models recommendation engines anomaly detection systems statistical model deep learning reinforcement learning and other machine learning systems conduct studies and find creative usage of new and or existing data sources work with data architects to leverage existing data models and build new ones as needed collaborate with product development teams and partners in ericsson businesses to industrialize machine learning models and solutions as part of ericsson offerings including providing source code workflows and documents work with new technologies and champion them in mi communities within ericsson assist mi competence buildup in ericsson businesses and customer serving units help to develop new and apply extend existing concepts methodologies techniques for cross functional initiatives engage with external ecosystem academia technology leaders open source etc to develop the skills and technology portfolio for mis needs  to be successful one should have  bs ms or phd in computer science computer engineering mathematics physics economics or related field 02 years of real world or research experience in data science statistics knowledge eg descriptive analysis and supervised and unsupervised analysis experience with big data technologies such as hadoop cassandra etc experience in model development and lifecyclemanagement in one or more industry application domain programming skills in various languages c scala java r with proficiency in python and or c understanding of machine learning eg linear logistics regression discriminant analysis bagging random forest bayesian model svm neural networks etc knowledge and skills in the use of current state of the art machine learning frameworks such as scikitlearn h2o keras tensorflow and spark etc demonstrated ability to implement new algorithms and methodologies from leading open source initiatives and research papers addressing their functionalities scalability and overall industrialization viability  you may have  certifying mi moocs a plus applications domainknowledge in telecommunication and or iot a plus ability to build and nurture internal and external communities experience with data visualization and dashboard creation is a plus ability to work independently with high energy enthusiasm and persistence good communication skills in written and spoken english experience in writing and presenting white papers journal articles and technical blogs on the results ability to work in a collaborative environment ie working with complex multiple stakeholder business units global customers technology and other ecosystem partners in a multiculture global matrix organization with sensitivity and persistence libf1 tag manahj disclaimer the above statements are intended to describe the general nature and level of work being performed by employees assigned to this classification they are not intended to be construed as an exhaustive list of all responsibilities duties and skills required of employees assigned to this position therefore employees assigned may be required to perform additional job tasks required by the manager  we are proud to be an eeo aa employer m f disabled veterans we maintain a drugfree workplace and perform preemployment substance abuse testing  ericsson provides equal employment opportunities eeo to all employees and applicants for employment without regard to race color religion sex sexual orientation gender identity marital status pregnancy parental status national origin ethnic background age disability political opinion social status protected veteran status union membership or genetics information ericsson complies with applicable country state and all local laws governing nondiscrimination in employment in every location across the world in which the company has facilities in addition ericsson supports the un guiding principles for business and human rights and the united nations global compact  this policy applies to all terms and conditions of employment including recruiting hiring placement promotion termination layoff recall transfer leaves of absence compensation training and development  ericsson expressly prohibits any form of workplace harassment based on race color religion sex sexual orientation gender identity marital status pregnancy parental status national origin ethnic background age disability political opinion social status protected veteran status union membership or genetic information  ericsson will not discharge or in any other manner discriminate against employees or applicants because they have inquired about discussed or disclosed their own pay or the pay of another employee or applicant however employees who have access to the compensation information of other employees or applicants as a part of their essential job functions cannot disclose the pay of other employees or applicants to individuals who do not otherwise have access to compensation information unless the disclosure is a in response to a formal complaint or charge b in furtherance of an investigation proceeding hearing or action including an investigation conducted by ericsson or c consistent with ericssons legal duty to furnish information  employee polygraph protection act notice  employers are generally prohibited from requiring or requesting any employee or job applicant to take a lie detector test and from discharging disciplining or discriminating against an employee or prospective employee for refusing to take a test or for exercising other rights under the act for more information visit https  wwwdolgov whd regs compliance posters eppacpdf  ericsson is an equal opportunity employer and is committed to providing reasonable accommodation for qualified disabled individuals during the application and hiring process ericsson will make modifications or adjustments to the job application or interview process that will enable a qualified applicant to be considered for a position if you require an accommodation due to a disability please contact ericsson at hrdirectdallasericssoncom or 866 3742272 us or 877 3389966 canada for further assistance  primary country and city united states us   santa clara  serveng'"
      ]
     },
     "execution_count": 70,
     "metadata": {},
     "output_type": "execute_result"
    }
   ],
   "source": [
    "df['description'][143]"
   ]
  },
  {
   "cell_type": "markdown",
   "metadata": {
    "colab_type": "text",
    "id": "FiDfTWceoRkH"
   },
   "source": [
    "## Stretch Goals\n",
    "\n",
    " - Try different visualizations for words and frequencies - what story do you want to tell with the data?\n",
    " - Scrape Job Listings for the job title \"Data Analyst\". How do these differ from Data Scientist Job Listings\n",
    " - Try and identify requirements for experience specific technologies that are asked for in the job listings. How are those distributed among the job listings?\n",
    " - Use a clustering algorithm to cluster documents by their most important terms. Do the clusters reveal any common themes?\n",
    "  - **Hint:** K-means might not be the best algorithm for this. Do a little bit of research to see what might be good for this. Also, remember that algorithms that depend on Euclidean distance break down with high dimensional data.\n",
    " - Create a labeled dataset - which jobs will you apply for? Train a model to select the jobs you are most likely to apply for. :) "
   ]
  }
 ],
 "metadata": {
  "colab": {
   "collapsed_sections": [],
   "name": "LS_DS_422_BOW_Assignment.ipynb",
   "provenance": []
  },
  "kernel_info": {
   "name": "python3"
  },
  "kernelspec": {
   "display_name": "U4-S1-NLP (Python3)",
   "language": "python",
   "name": "u4-s1-nlp"
  },
  "language_info": {
   "codemirror_mode": {
    "name": "ipython",
    "version": 3
   },
   "file_extension": ".py",
   "mimetype": "text/x-python",
   "name": "python",
   "nbconvert_exporter": "python",
   "pygments_lexer": "ipython3",
   "version": "3.7.0"
  },
  "nteract": {
   "version": "0.14.3"
  }
 },
 "nbformat": 4,
 "nbformat_minor": 4
}
